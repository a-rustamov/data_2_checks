
import requests
api_lit_all = "https://data.worldbank.org/indicator/SE.ADT.LITR.ZS"
api_lit_youth = "https://data.worldbank.org/indicator/SE.ADT.1524.LT.ZS"
response_all = requests.get(api_lit_all)
response_youth = requests.get(api_lit_youth)

response_all.jstatus_code

